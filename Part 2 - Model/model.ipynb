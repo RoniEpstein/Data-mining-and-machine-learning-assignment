{
 "cells": [
  {
   "cell_type": "markdown",
   "id": "2d8293ea-8187-4f1b-85d1-f939701e7e84",
   "metadata": {
    "tags": []
   },
   "source": [
    "# Summary assignment - part 2"
   ]
  },
  {
   "cell_type": "markdown",
   "id": "1fb12d46-cb72-43fb-a283-bc79f10510e1",
   "metadata": {},
   "source": [
    "### Odeya Hazani- 207288457\n",
    "### Roni Epstein- 211645825\n",
    "### https://github.com/RoniEpstein/Data-mining-and-machine-learning-assignment"
   ]
  },
  {
   "cell_type": "code",
   "execution_count": 93,
   "id": "02ba571c-cb8c-4a1b-98da-5fe26a095db6",
   "metadata": {
    "ExecuteTime": {
     "end_time": "2024-07-11T16:15:30.417607Z",
     "start_time": "2024-07-11T16:15:29.136113Z"
    }
   },
   "outputs": [],
   "source": [
    "# Import necessary libraries\n",
    "import pandas as pd\n",
    "import numpy as np\n",
    "from datetime import datetime\n",
    "import datetime\n",
    "import seaborn as sns\n",
    "import matplotlib.pyplot as plt\n",
    "import cleaning_funs #Python file attached\n",
    "import column_prediction_models #Python file attached\n",
    "\n",
    "import warnings\n",
    "warnings.filterwarnings(\"ignore\")"
   ]
  },
  {
   "cell_type": "code",
   "execution_count": 94,
   "id": "629e7cd6-e285-4c1d-b636-69eb904f6d94",
   "metadata": {
    "ExecuteTime": {
     "end_time": "2024-07-08T11:12:11.403355Z",
     "start_time": "2024-07-08T11:12:11.344864Z"
    },
    "tags": []
   },
   "outputs": [],
   "source": [
    "from sklearn.model_selection import train_test_split, KFold, cross_val_score, StratifiedKFold, GridSearchCV, cross_val_predict, RepeatedKFold, RandomizedSearchCV\n",
    "from sklearn.linear_model import LinearRegression, Ridge, Lasso, ElasticNetCV, ElasticNet\n",
    "from sklearn.preprocessing import StandardScaler, OneHotEncoder, PolynomialFeatures, LabelEncoder, MinMaxScaler, RobustScaler, MaxAbsScaler, Normalizer, FunctionTransformer\n",
    "from sklearn.impute import SimpleImputer, KNNImputer\n",
    "from sklearn.pipeline import Pipeline, make_pipeline\n",
    "from sklearn.compose import ColumnTransformer\n",
    "from sklearn.metrics import mean_squared_error, mean_absolute_error, r2_score, make_scorer,explained_variance_score\n",
    "import joblib"
   ]
  },
  {
   "cell_type": "markdown",
   "id": "cfaffb07-e5cb-487f-944c-97f9e7708dee",
   "metadata": {
    "tags": []
   },
   "source": [
    "## Data Preparation"
   ]
  },
  {
   "cell_type": "code",
   "execution_count": 95,
   "id": "6e6f1cc0-04b0-4fb3-9701-b694bab29e86",
   "metadata": {
    "ExecuteTime": {
     "end_time": "2024-07-08T11:12:14.793467Z",
     "start_time": "2024-07-08T11:12:14.543008Z"
    }
   },
   "outputs": [
    {
     "name": "stdout",
     "output_type": "stream",
     "text": [
      "<class 'pandas.core.frame.DataFrame'>\n",
      "RangeIndex: 1500 entries, 0 to 1499\n",
      "Data columns (total 20 columns):\n",
      " #   Column           Non-Null Count  Dtype  \n",
      "---  ------           --------------  -----  \n",
      " 0   manufactor       1500 non-null   object \n",
      " 1   Year             1500 non-null   int64  \n",
      " 2   model            1500 non-null   object \n",
      " 3   Hand             1500 non-null   int64  \n",
      " 4   Gear             1499 non-null   object \n",
      " 5   capacity_Engine  1474 non-null   object \n",
      " 6   Engine_type      1495 non-null   object \n",
      " 7   Prev_ownership   774 non-null    object \n",
      " 8   Curr_ownership   774 non-null    object \n",
      " 9   Area             1361 non-null   object \n",
      " 10  City             1500 non-null   object \n",
      " 11  Price            1500 non-null   float64\n",
      " 12  Pic_num          1476 non-null   float64\n",
      " 13  Cre_date         1500 non-null   object \n",
      " 14  Repub_date       1500 non-null   object \n",
      " 15  Description      1500 non-null   object \n",
      " 16  Color            787 non-null    object \n",
      " 17  Km               1412 non-null   object \n",
      " 18  Test             139 non-null    object \n",
      " 19  Supply_score     439 non-null    float64\n",
      "dtypes: float64(3), int64(2), object(15)\n",
      "memory usage: 234.5+ KB\n"
     ]
    }
   ],
   "source": [
    "df_original= pd.read_csv('dataset.csv')\n",
    "df_original.info()"
   ]
  },
  {
   "cell_type": "markdown",
   "id": "d6d9288d-0984-4883-a05c-6177f6db116d",
   "metadata": {
    "tags": []
   },
   "source": [
    "## prepare_data"
   ]
  },
  {
   "cell_type": "code",
   "execution_count": 96,
   "id": "d7749957-fe73-4b9d-9354-3b65c52491d6",
   "metadata": {
    "ExecuteTime": {
     "end_time": "2024-07-08T11:12:17.726691Z",
     "start_time": "2024-07-08T11:12:17.703775Z"
    },
    "tags": []
   },
   "outputs": [],
   "source": [
    "def prepare_data(df):\n",
    "    \"\"\"The prepare_data function preprocesses a dataset for modeling using utilities from the cleaning_funs module. It cleans text, \n",
    "        processes categories, converts data types, and generates new features such as car age. \n",
    "        The function also selects relevant columns and fills missing values, \n",
    "        ensuring the data is ready for analysis.\"\"\"\n",
    "    \n",
    "    # Ensure 'Description' column is of type string\n",
    "    df['Description'] = df['Description'].astype('string')\n",
    "    \n",
    "    # Apply text cleaning functions\n",
    "    df['Description'] = df['Description'].apply(cleaning_funs.clean_text_robust)\n",
    "    df['model'] = df['model'].apply(cleaning_funs.clean_text_robust)\n",
    "    \n",
    "    # Clean 'capacity_Engine' column\n",
    "    df['capacity_Engine'] = df['capacity_Engine'].replace(',', '', regex=True)\n",
    "    \n",
    "    # Apply custom functions to handle least frequent categories and conversions\n",
    "    df = cleaning_funs.Color_least_frequent(df, 'Color', 'Processed_Colors')\n",
    "    df = cleaning_funs.Engine_type_least_frequent(df, 'Engine_type')\n",
    "    df = cleaning_funs.ownership_least_frequent(df, 'Curr_ownership', 'Processed_Curr_ownership')\n",
    "    df = cleaning_funs.ownership_least_frequent(df, 'Prev_ownership', 'Processed_Prev_ownership')\n",
    "    df = cleaning_funs.convert_to_date_and_calculate_days_and_check(df, 'Cre_date')\n",
    "    df = cleaning_funs.convert_to_date_and_calculate_days_and_check(df, 'Repub_date')\n",
    "    df = cleaning_funs.convert_Km(df, 'Km', 'Processed_Km')\n",
    "    df = cleaning_funs.process_gear_column(df)\n",
    "    df = cleaning_funs.process_manufactor_column(df)\n",
    "    df = cleaning_funs.Processed_Test(df)\n",
    "    df = cleaning_funs.process_accident_column(df, 'Description')\n",
    "    df = cleaning_funs.convert_cap(df, 'capacity_Engine', 'Processed_capacity_Engine')\n",
    "    df = cleaning_funs.update_description_length(df, 'Description', 'description_length')\n",
    "    \n",
    "    # Combine ownership columns\n",
    "    df['Total_Ownership'] = df['Processed_Prev_ownership'].fillna('') + '_' + df['Processed_Curr_ownership']\n",
    "    \n",
    "    # Extract and process additional features\n",
    "    df['dats_Test'] = df['Description'].apply(cleaning_funs.extract_test_dates_extended)\n",
    "    df['Processed_Test'] = df.apply(cleaning_funs.apply_days_until_end_of_month, axis=1)\n",
    "    df['Processed_model'] = df['model'].apply(cleaning_funs.translate_model)\n",
    "    \n",
    "    # Convert columns to appropriate types\n",
    "    df['Total_Ownership'] = df['Total_Ownership'].astype('category')\n",
    "    df['Processed_model'] = df['Processed_model'].astype('category')\n",
    "    df['Processed_manufactor'] = df['Processed_manufactor'].astype('category')\n",
    "    df['Processed_Gear'] = df['Processed_Gear'].astype('category')\n",
    "    df['Processed_Colors'] = df['Processed_Colors'].astype('category')\n",
    "    df['Processed_Engine_type'] = df['Processed_Engine_type'].astype('category')\n",
    "    df['Processed_Curr_ownership'] = df['Processed_Curr_ownership'].astype('category')\n",
    "    df['Processed_Prev_ownership'] = df['Processed_Prev_ownership'].astype('category')\n",
    "    df['Processed_Test'] = pd.to_numeric(df['Processed_Test'], errors='coerce').astype('Int64')\n",
    "    df = cleaning_funs.map_areas(df)\n",
    "    df['Processed_Area'] = df['Processed_Area'].astype('category')\n",
    "    df = cleaning_funs.fill_supply_score(df) #Processed_Supply_score\n",
    "    # Create new features\n",
    "    df['Car_Age'] = datetime.datetime.now().year - df['Year']\n",
    "    df = cleaning_funs.convert_to_date_for_age(df, 'Repub_date')\n",
    "    \n",
    "    # Define the columns to copy\n",
    "    columns_to_copy = [\n",
    "        'Price', 'Car_Age', 'Hand', 'Pic_num', 'Processed_Supply_score', 'description_length', \n",
    "        'Processed_Colors','Processed_Engine_type', 'Processed_Area', 'Processed_Repub_date', 'Processed_capacity_Engine', \n",
    "        'Processed_Km', 'Processed_Gear','Processed_manufactor', 'Processed_Test', 'Processed_accident','Processed_model',\n",
    "        'Total_Ownership']\n",
    "    \n",
    "    # Select the relevant columns\n",
    "    df_p = df[columns_to_copy]\n",
    "\n",
    "    df_p = column_prediction_models.fill_missing_values_colors(df_p, 'Processed_Colors')\n",
    "    df_p = column_prediction_models.fill_missing_values_ownership(df_p, 'Total_Ownership')\n",
    "\n",
    "    return df_p"
   ]
  },
  {
   "cell_type": "code",
   "execution_count": 97,
   "id": "35ba9869-3459-494a-9924-242c877a1645",
   "metadata": {
    "ExecuteTime": {
     "end_time": "2024-07-08T11:12:54.929818Z",
     "start_time": "2024-07-08T11:12:27.672554Z"
    },
    "scrolled": true
   },
   "outputs": [
    {
     "name": "stdout",
     "output_type": "stream",
     "text": [
      "<class 'pandas.core.frame.DataFrame'>\n",
      "Int64Index: 1330 entries, 0 to 1499\n",
      "Data columns (total 18 columns):\n",
      " #   Column                     Non-Null Count  Dtype   \n",
      "---  ------                     --------------  -----   \n",
      " 0   Price                      1330 non-null   float64 \n",
      " 1   Car_Age                    1330 non-null   int64   \n",
      " 2   Hand                       1330 non-null   int64   \n",
      " 3   Pic_num                    1306 non-null   float64 \n",
      " 4   Processed_Supply_score     377 non-null    float64 \n",
      " 5   description_length         1330 non-null   int64   \n",
      " 6   Processed_Colors           1330 non-null   category\n",
      " 7   Processed_Engine_type      1325 non-null   category\n",
      " 8   Processed_Area             1330 non-null   category\n",
      " 9   Processed_Repub_date       1287 non-null   float64 \n",
      " 10  Processed_capacity_Engine  1293 non-null   Int64   \n",
      " 11  Processed_Km               1253 non-null   Int64   \n",
      " 12  Processed_Gear             1328 non-null   category\n",
      " 13  Processed_manufactor       1330 non-null   category\n",
      " 14  Processed_Test             113 non-null    Int64   \n",
      " 15  Processed_accident         1330 non-null   int64   \n",
      " 16  Processed_model            1249 non-null   category\n",
      " 17  Total_Ownership            1330 non-null   category\n",
      "dtypes: Int64(3), category(7), float64(4), int64(4)\n",
      "memory usage: 147.9 KB\n"
     ]
    }
   ],
   "source": [
    "df_p = prepare_data(df_original)\n",
    "df_p = df_p.drop_duplicates()\n",
    "df_p.info()"
   ]
  },
  {
   "cell_type": "markdown",
   "id": "029995d5-0e70-4b7e-a68b-089e96801c0c",
   "metadata": {
    "tags": []
   },
   "source": [
    "## model Preparation"
   ]
  },
  {
   "cell_type": "code",
   "execution_count": 98,
   "id": "8e5ac5a0-8b4a-46db-80ac-ba2a580fec53",
   "metadata": {},
   "outputs": [],
   "source": [
    "def remove_outliers(df, lower_quantile, upper_quantile, multiplier):\n",
    "    numeric_columns = df.select_dtypes(include=['float64', 'int64']).columns\n",
    "    numeric_columns = numeric_columns.drop('Price', errors='ignore')\n",
    "    outlier_indices = set()\n",
    "    \n",
    "    for column_name in numeric_columns:\n",
    "        Q1 = df[column_name].quantile(lower_quantile)\n",
    "        Q3 = df[column_name].quantile(upper_quantile)\n",
    "        IQR = Q3 - Q1\n",
    "        \n",
    "        lower_bound = Q1 - multiplier * IQR\n",
    "        upper_bound = Q3 + multiplier * IQR\n",
    "       \n",
    "        outliers = df[(df[column_name] < lower_bound) | (df[column_name] > upper_bound)].index\n",
    "        outlier_indices.update(outliers)\n",
    "    \n",
    "    df_cleaned = df.drop(index=outlier_indices)\n",
    "    return df_cleaned\n",
    "\n",
    "def create_datasets(df):\n",
    "    # Define configurations\n",
    "    configurations = [\n",
    "        {'lower_quantile': 0.15, 'upper_quantile': 0.85, 'multiplier': 2.5, 'label': 'dataset_1'},\n",
    "        {'lower_quantile': 0.27, 'upper_quantile': 0.89, 'multiplier': 1.6, 'label': 'dataset_2'},\n",
    "        {'lower_quantile': 0.23, 'upper_quantile': 0.86, 'multiplier': 2.2, 'label': 'dataset_3'}]\n",
    "    \n",
    "    datasets = {}\n",
    "    for config in configurations:\n",
    "        datasets[config['label']] = remove_outliers(df, config['lower_quantile'], config['upper_quantile'], config['multiplier'])\n",
    "    \n",
    "    return datasets"
   ]
  },
  {
   "cell_type": "code",
   "execution_count": 99,
   "id": "f63c9094-cd20-417e-b0ca-d0ac4916f633",
   "metadata": {},
   "outputs": [
    {
     "name": "stdout",
     "output_type": "stream",
     "text": [
      "1273\n",
      "1185\n",
      "1245\n"
     ]
    }
   ],
   "source": [
    "datasets = create_datasets(df_p)\n",
    "data1=datasets.get('dataset_1')\n",
    "data2=datasets.get('dataset_2')\n",
    "data3=datasets.get('dataset_3')\n",
    "datasets = [data1,data2,data3]\n",
    "for i in datasets:\n",
    "    print(len(i))"
   ]
  },
  {
   "cell_type": "code",
   "execution_count": 100,
   "id": "b0d5b124-1dc2-401c-89b6-61d3ee85574d",
   "metadata": {},
   "outputs": [],
   "source": [
    "# Define features and target\n",
    "X = data3.drop(columns=['Price','Processed_Supply_score','Processed_accident'])\n",
    "y = data3['Price']\n",
    "\n",
    "# Define numerical and categorical features\n",
    "numerical_features = X.select_dtypes(include=['int64', 'float64']).columns.tolist()\n",
    "categorical_features = X.select_dtypes(include=['category', 'object']).columns.tolist()"
   ]
  },
  {
   "cell_type": "markdown",
   "id": "2070b226",
   "metadata": {},
   "source": [
    "### param_distributions\n",
    "regressor__alpha: This is the regularization strength parameter. The values of alpha are chosen using np.logspace(-3.5, -1, 10), which means 10 logarithmic values between \n",
    "10 ^-3.5 and 10^-1\n",
    " This range helps in finding the optimal value that makes the model both simple and accurate.\n",
    "\n",
    "regressor__l1_ratio: This parameter controls the balance between L1 (Lasso) and L2 (Ridge) regularization. The values range from 0.1 to 0.9, with 9 values in total, to find the right balance between the two methods."
   ]
  },
  {
   "cell_type": "code",
   "execution_count": 101,
   "id": "f1e9c919-c725-46c2-9d41-b12217af631a",
   "metadata": {},
   "outputs": [],
   "source": [
    "# Recommended splits based on observations\n",
    "splits = [\n",
    "    ('Split 1', 0.15, 0.2353),\n",
    "    ('Split 2', 0.10, 0.2222)\n",
    "]\n",
    "scalers = {\n",
    "    'StandardScaler': StandardScaler(),\n",
    "}\n",
    "\n",
    "# Define the expanded parameter grid\n",
    "param_distributions = {\n",
    "    'regressor__alpha': np.logspace(-3.5, -1, 13),  \n",
    "    'regressor__l1_ratio': np.linspace(0.1, 0.9, 14) }"
   ]
  },
  {
   "cell_type": "markdown",
   "id": "43e99ac6",
   "metadata": {},
   "source": [
    "### scoring metrics\n",
    "neg_mean_squared_error: Negative Mean Squared Error (MSE). This metric gives more weight to larger errors, making it suitable when we want to avoid large errors.\n",
    "neg_mean_absolute_error: Negative Mean Absolute Error (MAE). This metric is less sensitive to large errors and measures the average error.\n",
    "neg_root_mean_squared_error: Negative Root Mean Squared Error (RMSE). This metric is the square root of MSE, thus having the same units as the original data. Here, make_scorer is used to create a custom scorer that calculates RMSE with greater_is_better=False to turn it into a negative metric (since random search minimizes negative values).\n",
    "r2: R-squared (R²). This metric indicates the proportion of variance in the data that the model explains. Values close to 1 indicate a good model.\n",
    "explained_variance: Explained Variance. This metric is similar to R² and measures the portion of the total variance explained by the model."
   ]
  },
  {
   "cell_type": "code",
   "execution_count": 102,
   "id": "f583580f-b32d-426a-a044-cee51828553d",
   "metadata": {
    "scrolled": true
   },
   "outputs": [],
   "source": [
    "# Define scoring metrics\n",
    "scoring = {\n",
    "    'neg_mean_squared_error': 'neg_mean_squared_error',\n",
    "    'neg_mean_absolute_error': 'neg_mean_absolute_error',\n",
    "    'neg_root_mean_squared_error': make_scorer(mean_squared_error, greater_is_better=False, squared=False),\n",
    "    'r2': 'r2',\n",
    "    'explained_variance': 'explained_variance'}"
   ]
  },
  {
   "cell_type": "code",
   "execution_count": 103,
   "id": "7a741fac-7af8-4e64-a5bf-c68f6542678d",
   "metadata": {
    "scrolled": true
   },
   "outputs": [
    {
     "name": "stdout",
     "output_type": "stream",
     "text": [
      "\n",
      "Evaluating scaler: StandardScaler\n",
      "\n",
      "Evaluating Split 1 with test_size=0.15 and val_size=0.2353\n",
      "Validation RMSE: 12325.921194251943, Validation RMSE Std Dev: 785.3095487140631\n",
      "Test RMSE:       9468.055414350154,     Test RMSE Std Dev: 9459.505915121123\n",
      "Best parameters found:  {'regressor__l1_ratio': 0.9, 'regressor__alpha': 0.009085175756516871}\n",
      "\n",
      "Evaluating Split 2 with test_size=0.1 and val_size=0.2222\n",
      "Validation RMSE: 11208.484036212289, Validation RMSE Std Dev: 593.9977428380873\n",
      "Test RMSE:       9442.120116696893,     Test RMSE Std Dev: 9410.830247049014\n",
      "Best parameters found:  {'regressor__l1_ratio': 0.7769230769230769, 'regressor__alpha': 0.005623413251903491}\n",
      "\n",
      "Best model overall: Scaler: StandardScaler, Split: Split 2\n",
      "Best Cross-Validation RMSE: 11208.484036212289\n",
      "Best parameters: {'regressor__l1_ratio': 0.7769230769230769, 'regressor__alpha': 0.005623413251903491}\n",
      "\n",
      "10-Fold Cross-Validation RMSE scores: [12661.38865316  9715.93052876  7938.97143115 13721.60814002\n",
      " 11325.92166157 11113.45248847 11470.74079072 12977.4063186\n",
      " 12949.0520017  10801.47539616]\n",
      "Mean CV RMSE: 11467.59474103068, Std Dev CV RMSE: 1645.8642038060857\n"
     ]
    }
   ],
   "source": [
    "best_cv_rmse = np.inf\n",
    "best_model_overall = None\n",
    "best_params_overall = None\n",
    "best_scaler_name = None\n",
    "best_split_name = None\n",
    "\n",
    "# Log transformation for numerical features\n",
    "log_transformer = FunctionTransformer(np.log1p, validate=True)\n",
    "\n",
    "for scaler_name, scaler in scalers.items():\n",
    "    print(f\"\\nEvaluating scaler: {scaler_name}\")\n",
    "\n",
    "    numerical_transformer = Pipeline(steps=[\n",
    "        ('imputer', SimpleImputer(strategy='mean')),  # Handle missing values\n",
    "        ('poly_transform', PolynomialFeatures(degree=2, include_bias=False)),  # Apply polynomial transformation\n",
    "        ('scaler', scaler)])\n",
    "\n",
    "    categorical_transformer = Pipeline(steps=[\n",
    "        ('imputer', SimpleImputer(strategy='most_frequent')),\n",
    "        ('onehot', OneHotEncoder(handle_unknown='ignore', sparse_output=False))])  # Handle categorical features\n",
    "\n",
    "    preprocessor = ColumnTransformer(\n",
    "        transformers=[\n",
    "            ('num', numerical_transformer, numerical_features),\n",
    "            ('cat', categorical_transformer, categorical_features)])\n",
    "\n",
    "    model = Pipeline(steps=[\n",
    "        ('preprocessor', preprocessor),\n",
    "        ('regressor', ElasticNet())])\n",
    "\n",
    "    for split_name, test_size, val_size in splits:\n",
    "        print(f\"\\nEvaluating {split_name} with test_size={test_size} and val_size={val_size}\")\n",
    "\n",
    "        X_train_val, X_test, y_train_val, y_test = train_test_split(X, y, test_size=test_size, random_state=42)\n",
    "        X_train, X_val, y_train, y_val = train_test_split(X_train_val, y_train_val, test_size=val_size, random_state=42)\n",
    "\n",
    "        random_search = RandomizedSearchCV(model, param_distributions, n_iter=20, cv=10, scoring=scoring, refit='neg_mean_squared_error', return_train_score=True, random_state=42)\n",
    "        random_search.fit(X_train, y_train)\n",
    "\n",
    "        best_model = random_search.best_estimator_\n",
    "\n",
    "        y_val_pred = best_model.predict(X_val)\n",
    "        val_rmse = np.sqrt(mean_squared_error(y_val, y_val_pred))\n",
    "\n",
    "        # Calculate standard deviation of cross-validation scores\n",
    "        cv_rmse_scores = np.sqrt(-random_search.cv_results_['mean_test_neg_mean_squared_error'])\n",
    "        val_std = np.std(cv_rmse_scores)\n",
    "        print(f\"Validation RMSE: {val_rmse}, Validation RMSE Std Dev: {val_std}\")\n",
    "        \n",
    "        y_test_pred = best_model.predict(X_test)\n",
    "        rmse_test = np.sqrt(mean_squared_error(y_test, y_test_pred))\n",
    "        test_std = np.std(y_test - y_test_pred)\n",
    "        print(f\"Test RMSE:       {rmse_test},     Test RMSE Std Dev: {test_std}\")\n",
    "\n",
    "        print(\"Best parameters found: \", random_search.best_params_)\n",
    "\n",
    "        if val_rmse < best_cv_rmse:\n",
    "            best_cv_rmse = val_rmse\n",
    "            best_model_overall = best_model\n",
    "            best_params_overall = random_search.best_params_\n",
    "            best_scaler_name = scaler_name\n",
    "            best_split_name = split_name\n",
    "\n",
    "print(f\"\\nBest model overall: Scaler: {best_scaler_name}, Split: {best_split_name}\")\n",
    "print(f\"Best Cross-Validation RMSE: {best_cv_rmse}\")\n",
    "print(f\"Best parameters: {best_params_overall}\")\n",
    "\n",
    "# Final model training with the best parameters\n",
    "final_model = best_model_overall\n",
    "\n",
    "# Perform 10-fold cross-validation on the training data\n",
    "cv_scores = cross_val_score(final_model, X_train, y_train, cv=10, scoring='neg_mean_squared_error')\n",
    "cv_rmse_scores = np.sqrt(-cv_scores)\n",
    "print(f\"\\n10-Fold Cross-Validation RMSE scores: {cv_rmse_scores}\")\n",
    "print(f\"Mean CV RMSE: {np.mean(cv_rmse_scores)}, Std Dev CV RMSE: {np.std(cv_rmse_scores)}\")\n",
    "\n",
    "# Fit the final model on the full training data\n",
    "final_model.fit(X_train, y_train)\n",
    "\n",
    "# Get feature names after One-Hot Encoding\n",
    "preprocessor.fit(X_train)  # Fit the preprocessor to the training data\n",
    "onehot_feature_names = preprocessor.transformers_[1][1]['onehot'].get_feature_names_out(categorical_features)\n",
    "numerical_feature_names = preprocessor.transformers_[0][1]['poly_transform'].get_feature_names_out(numerical_features)\n",
    "feature_names = list(numerical_feature_names) + list(onehot_feature_names)\n",
    "\n",
    "# Validate number of features\n",
    "importances = final_model.named_steps['regressor'].coef_\n",
    "\n",
    "if len(feature_names) == len(importances):\n",
    "    feature_importances = pd.DataFrame({'Feature': feature_names, 'Importance': importances})\n",
    "    feature_importances['Absolute_Importance'] = feature_importances['Importance'].abs()  # Calculate absolute importance\n",
    "    top_features = feature_importances.sort_values(by='Absolute_Importance', ascending=False).head(5)\n",
    "else:\n",
    "    print(\"The lengths of feature names and importances do not match.\")"
   ]
  },
  {
   "cell_type": "code",
   "execution_count": 104,
   "id": "2fbc2dd1-b73e-4d58-8b5e-842eb487bae3",
   "metadata": {},
   "outputs": [],
   "source": [
    "# Save the best model\n",
    "joblib.dump(final_model, 'final_model.pkl')\n",
    "\n",
    "# Load the saved model\n",
    "loaded_model = joblib.load('final_model.pkl')"
   ]
  },
  {
   "cell_type": "code",
   "execution_count": 105,
   "id": "7fffafc4-7456-45b5-b07f-f09aabd6e935",
   "metadata": {},
   "outputs": [
    {
     "data": {
      "image/png": "[encoded data removed]",
      "text/plain": [
       "<Figure size 640x480 with 1 Axes>"
      ]
     },
     "metadata": {},
     "output_type": "display_data"
    }
   ],
   "source": [
    "# Prediction on the test set\n",
    "y_pred = final_model.predict(X_test)\n",
    "residuals = y_test - y_pred\n",
    "plt.scatter(y_test, y_pred, alpha=0.6)\n",
    "\n",
    "# Highlighting extremes\n",
    "extreme_errors_indices = np.where(np.abs(residuals) > np.std(residuals))  # using std deviation as a threshold\n",
    "plt.scatter(np.array(y_test)[extreme_errors_indices], np.array(y_pred)[extreme_errors_indices], color='red')\n",
    "\n",
    "plt.xlabel('Actual Scores')\n",
    "plt.ylabel('Predicted Scores')\n",
    "plt.title('Predicted vs Actual Scores with Highlighted Extremes')\n",
    "plt.plot([min(y_test), max(y_test)], [min(y_test), max(y_test)], color='red', linestyle='--')  # Ideal line\n",
    "plt.show()"
   ]
  },
  {
   "cell_type": "code",
   "execution_count": 106,
   "id": "29055440-ea25-4448-9523-9ff87668c451",
   "metadata": {},
   "outputs": [
    {
     "data": {
      "image/png": "[encoded data removed]",
      "text/plain": [
       "<Figure size 800x500 with 1 Axes>"
      ]
     },
     "metadata": {},
     "output_type": "display_data"
    }
   ],
   "source": [
    "# Histogram of errors\n",
    "plt.figure(figsize=(8, 5))\n",
    "sns.histplot(residuals, kde=True)\n",
    "plt.xlabel('Residuals')\n",
    "plt.title('Distribution of Residuals')\n",
    "plt.show()"
   ]
  },
  {
   "cell_type": "code",
   "execution_count": 107,
   "id": "0889f404-9775-4c18-bcbe-586500e91dee",
   "metadata": {},
   "outputs": [
    {
     "name": "stdout",
     "output_type": "stream",
     "text": [
      "\n",
      "Performance Metrics on Full Data:\n",
      "Mean Absolute Error (MAE): 6492.472805564621\n",
      "Mean Squared Error (MSE): 80526473.24899527\n",
      "Root Mean Squared Error (RMSE): 8973.654397679647\n",
      "R-squared (R²): 0.8370474831310226\n"
     ]
    }
   ],
   "source": [
    "# Model Performance Indicators on Full Data\n",
    "y_pred = final_model.predict(X)\n",
    "print(\"\\nPerformance Metrics on Full Data:\")\n",
    "print(f\"Mean Absolute Error (MAE): {mean_absolute_error(y, y_pred)}\")\n",
    "print(f\"Mean Squared Error (MSE): {mean_squared_error(y, y_pred)}\")\n",
    "print(f\"Root Mean Squared Error (RMSE): {np.sqrt(mean_squared_error(y, y_pred))}\")\n",
    "print(f\"R-squared (R²): {r2_score(y, y_pred)}\")"
   ]
  },
  {
   "cell_type": "code",
   "execution_count": 108,
   "id": "1af25638-4389-4fda-a449-493bc140ab02",
   "metadata": {},
   "outputs": [
    {
     "name": "stdout",
     "output_type": "stream",
     "text": [
      "\n",
      "Performance Metrics on Test Data:\n",
      "Mean Absolute Error (MAE): 7086.597115398938\n",
      "Mean Squared Error (MSE): 89153632.29813217\n",
      "Root Mean Squared Error (RMSE): 9442.120116696893\n",
      "R-squared (R²): 0.8208010152214491\n"
     ]
    }
   ],
   "source": [
    "# Model Performance Indicators on Test Data\n",
    "y_test_pred = final_model.predict(X_test)\n",
    "print(\"\\nPerformance Metrics on Test Data:\")\n",
    "print(f\"Mean Absolute Error (MAE): {mean_absolute_error(y_test, y_test_pred)}\")\n",
    "print(f\"Mean Squared Error (MSE): {mean_squared_error(y_test, y_test_pred)}\")\n",
    "print(f\"Root Mean Squared Error (RMSE): {np.sqrt(mean_squared_error(y_test, y_test_pred))}\")\n",
    "print(f\"R-squared (R²): {r2_score(y_test, y_test_pred)}\")"
   ]
  },
  {
   "cell_type": "markdown",
   "id": "434f0af2",
   "metadata": {},
   "source": [
    "## 5 top featuers"
   ]
  },
  {
   "cell_type": "code",
   "execution_count": 109,
   "id": "a699bfff-fc98-4a5d-838c-52b8f6db5b6d",
   "metadata": {
    "scrolled": true
   },
   "outputs": [
    {
     "data": {
      "text/html": [
       "<div>\n",
       "<style scoped>\n",
       "    .dataframe tbody tr th:only-of-type {\n",
       "        vertical-align: middle;\n",
       "    }\n",
       "\n",
       "    .dataframe tbody tr th {\n",
       "        vertical-align: top;\n",
       "    }\n",
       "\n",
       "    .dataframe thead th {\n",
       "        text-align: right;\n",
       "    }\n",
       "</style>\n",
       "<table border=\"1\" class=\"dataframe\">\n",
       "  <thead>\n",
       "    <tr style=\"text-align: right;\">\n",
       "      <th></th>\n",
       "      <th>Feature</th>\n",
       "      <th>Importance</th>\n",
       "      <th>Absolute_Importance</th>\n",
       "    </tr>\n",
       "  </thead>\n",
       "  <tbody>\n",
       "    <tr>\n",
       "      <th>246</th>\n",
       "      <td>Processed_model_Space Star</td>\n",
       "      <td>-30050.165454</td>\n",
       "      <td>30050.165454</td>\n",
       "    </tr>\n",
       "    <tr>\n",
       "      <th>229</th>\n",
       "      <td>Processed_model_S-Class</td>\n",
       "      <td>22359.649377</td>\n",
       "      <td>22359.649377</td>\n",
       "    </tr>\n",
       "    <tr>\n",
       "      <th>0</th>\n",
       "      <td>Car_Age</td>\n",
       "      <td>-21646.132200</td>\n",
       "      <td>21646.132200</td>\n",
       "    </tr>\n",
       "    <tr>\n",
       "      <th>99</th>\n",
       "      <td>Processed_manufactor_מרצדס</td>\n",
       "      <td>20536.445282</td>\n",
       "      <td>20536.445282</td>\n",
       "    </tr>\n",
       "    <tr>\n",
       "      <th>97</th>\n",
       "      <td>Processed_manufactor_מיני</td>\n",
       "      <td>17808.392004</td>\n",
       "      <td>17808.392004</td>\n",
       "    </tr>\n",
       "  </tbody>\n",
       "</table>\n",
       "</div>"
      ],
      "text/plain": [
       "                        Feature    Importance  Absolute_Importance\n",
       "246  Processed_model_Space Star -30050.165454         30050.165454\n",
       "229     Processed_model_S-Class  22359.649377         22359.649377\n",
       "0                       Car_Age -21646.132200         21646.132200\n",
       "99   Processed_manufactor_מרצדס  20536.445282         20536.445282\n",
       "97    Processed_manufactor_מיני  17808.392004         17808.392004"
      ]
     },
     "execution_count": 109,
     "metadata": {},
     "output_type": "execute_result"
    }
   ],
   "source": [
    "# Top 5 features based on absolute importance:\n",
    "top_features"
   ]
  },
  {
   "cell_type": "code",
   "execution_count": 110,
   "id": "79143c64-86c3-42b1-92d3-b9675ee76b0a",
   "metadata": {},
   "outputs": [
    {
     "data": {
      "image/png": "[encoded data removed]",
      "text/plain": [
       "<Figure size 800x500 with 1 Axes>"
      ]
     },
     "metadata": {},
     "output_type": "display_data"
    }
   ],
   "source": [
    "plt.figure(figsize=(8, 5))\n",
    "colors = ['red' if val < 0 else 'green' for val in top_features['Importance']]\n",
    "plt.barh(top_features['Feature'], top_features['Importance'], color=colors)\n",
    "plt.xlabel('Importance')\n",
    "plt.title('Feature Importance')\n",
    "plt.show()"
   ]
  },
  {
   "cell_type": "markdown",
   "id": "45ccff92",
   "metadata": {},
   "source": [
    "## Full model explanition step by step"
   ]
  },
  {
   "cell_type": "markdown",
   "id": "3446d237",
   "metadata": {},
   "source": [
    "### log_transformer- reasones\n",
    "Data Normalization\n",
    "Many real-world data sets are not normally distributed. Logarithmic transformation can help bring the data closer to a normal (Gaussian) distribution, which can improve the performance of linear models.\n",
    "\n",
    "Reducing the Impact of Outliers\n",
    "Logarithmic transformation reduces the influence of outliers, which can enhance the model's stability and decrease the impact of extreme values."
   ]
  },
  {
   "cell_type": "markdown",
   "id": "bbfab3d3-af8f-4ffb-8e85-61eaaba48087",
   "metadata": {},
   "source": [
    "\n",
    "### Evaluating columns\n",
    "\n",
    "#### 1. Numerical Transformer\n",
    "\n",
    "SimpleImputer: Fills missing values in numerical features using the 'mean' strategy, replacing missing values with the feature's mean.\n",
    "PolynomialFeatures: Creates polynomial features of degree 2 to help the model capture non-linear relationships and prevent monotonicity. include_bias=False prevents adding a bias term column.\n",
    "Scaler: Scales numerical features. StandardScaler (or another chosen scaler) is used to standardize features to have a mean of 0 and a standard deviation of 1.\n",
    "\n",
    "#### 2. Categorical Transformer\n",
    "\n",
    "SimpleImputer: Fills missing values in categorical features using the 'most_frequent' strategy, replacing missing values with the most frequent value.\n",
    "OneHotEncoder: Converts categorical features to binary numerical features. Each category is transformed into a separate binary feature. For example, a 'color' feature with values 'red', 'blue', 'green' becomes three binary features: 'color_red', 'color_blue', 'color_green'. handle_unknown='ignore' prevents errors for unseen categories in test data. sparse_output=False ensures the output is a DataFrame rather than a sparse matrix.\n",
    "\n",
    "#### 3. Creating Preprocessor\n",
    "\n",
    "ColumnTransformer: Applies different processing pipelines to different types of features (numerical and categorical).\n",
    "transformers: A list of data transformers.\n",
    "('num', numerical_transformer, numerical_features): Applies the numerical transformer to numerical features.\n",
    "('cat', categorical_transformer, categorical_features): Applies the categorical transformer to categorical features."
   ]
  },
  {
   "cell_type": "markdown",
   "id": "889bad0f",
   "metadata": {},
   "source": [
    "### model\n",
    "#### SelectFromModel selects important features based on the ElasticNet model, which combines L1 (Lasso) and L2 (Ridge) regularization. It chooses features with the largest coefficients, reducing model complexity and focusing on the most relevant features to improve performance and reduce computation time.\n",
    "\n",
    "#### Regressor: The Predictive Model\n",
    "ElasticNet, a regression model, combines L1 and L2 regularization. L1 aids in feature selection by shrinking unimportant feature coefficients to zero, while L2 reduces the impact of large coefficients to prevent overfitting, balancing simplicity and generalization."
   ]
  },
  {
   "cell_type": "markdown",
   "id": "8930ecf3",
   "metadata": {},
   "source": [
    "### Loop Through Data Splits:\n",
    "\n",
    "For each combination of split_name, test_size, and val_size in the splits list, the code evaluates the model.\n",
    "Data Splitting:\n",
    "\n",
    "Split the dataset X and y into training-validation (X_train_val, y_train_val) and test sets (X_test, y_test) based on test_size.\n",
    "Further split the training-validation set into training (X_train, y_train) and validation sets (X_val, y_val) based on val_size.\n",
    "Randomized Search for Hyperparameter Tuning:\n",
    "\n",
    "Set up a RandomizedSearchCV with the given model (ElasticNet), param_distributions, and other parameters (20 iterations, 10-fold cross-validation, and multiple scoring metrics).\n",
    "Fit the randomized search on the training data.\n",
    "Model Evaluation:\n",
    "\n",
    "Retrieve the best model from the search.\n",
    "Predict on the validation set and compute the Root Mean Squared Error (RMSE) and its standard deviation using cross-validation results.\n",
    "Predict on the test set and compute the RMSE and its standard deviation.\n",
    "Save and Load the Best Model:\n",
    "\n",
    "Save the best model using joblib.dump.\n",
    "Load the saved model using joblib.load.\n",
    "Cross-Validation on Final Model:\n",
    "\n",
    "Perform 10-fold cross-validation on the final model.\n",
    "Compute the mean and standard deviation of the RMSE scores from cross-validation.\n",
    "Best Model Selection:\n",
    "\n",
    "Compare the cross-validation RMSE of the current best model with the previous best model. If it is better, update the overall best model, parameters, scaler name, and split name.\n",
    "Print Best Model Information:\n",
    "\n",
    "Print details of the best model found across all splits, including the scaler, split, cross-validation RMSE, and best hyperparameters."
   ]
  },
  {
   "cell_type": "markdown",
   "id": "b959219d",
   "metadata": {},
   "source": [
    "### Feature importance extraction\n",
    "Fit Preprocessor: The preprocessor is fitted to the training data to apply the necessary transformations.\n",
    "Retrieve One-Hot Encoded Feature Names: The names of the features resulting from one-hot encoding the categorical features are retrieved.\n",
    "Combine Feature Names: Numerical feature names and one-hot encoded feature names are combined into a single list.\n",
    "Compute Feature Importances: The absolute values of the coefficients from the trained ElasticNet model are extracted to represent the importance of each feature."
   ]
  },
  {
   "cell_type": "markdown",
   "id": "66171221",
   "metadata": {},
   "source": [
    "### feature_importances\n",
    "Check Lengths: The code first ensures that the number of feature names matches the number of importances. This ensures that each feature has a corresponding importance value.\n",
    "Create DataFrame: If the lengths match, it creates a DataFrame named feature_importances with two columns: 'Feature' (containing the feature names) and 'Importance' (containing their corresponding importance values).\n",
    "Sort and Select Top Features: It then sorts this DataFrame by the 'Importance' column in descending order (most important features first) and selects the top 5 features with the highest importance values, storing them in top_features."
   ]
  },
  {
   "cell_type": "markdown",
   "id": "50e840d2",
   "metadata": {},
   "source": []
  }
 ],
 "metadata": {
  "kernelspec": {
   "display_name": "Python 3 (ipykernel)",
   "language": "python",
   "name": "python3"
  },
  "language_info": {
   "codemirror_mode": {
    "name": "ipython",
    "version": 3
   },
   "file_extension": ".py",
   "mimetype": "text/x-python",
   "name": "python",
   "nbconvert_exporter": "python",
   "pygments_lexer": "ipython3",
   "version": "3.10.2"
  }
 },
 "nbformat": 4,
 "nbformat_minor": 5
}
