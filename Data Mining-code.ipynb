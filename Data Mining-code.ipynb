{
 "cells": [
  {
   "cell_type": "markdown",
   "id": "e6bfc754a9063321",
   "metadata": {},
   "source": [
    "## Summary assignment - part 1"
   ]
  },
  {
   "metadata": {},
   "cell_type": "markdown",
   "source": "https://github.com/RoniEpstein/Data-mining-and-machine-learning-assignment",
   "id": "f172bcd4ed24f3cd"
  },
  {
   "cell_type": "code",
   "id": "09af80dc-93d2-471d-8e0e-c3004e3ee304",
   "metadata": {
    "ExecuteTime": {
     "end_time": "2024-06-06T16:45:20.633128Z",
     "start_time": "2024-06-06T16:45:19.858895Z"
    }
   },
   "source": [
    "# Import necessary libraries\n",
    "import requests\n",
    "from bs4 import BeautifulSoup\n",
    "import pandas as pd\n",
    "from datetime import datetime\n",
    "import datetime\n",
    "\n",
    "import warnings\n",
    "warnings.filterwarnings(\"ignore\")"
   ],
   "outputs": [],
   "execution_count": 1
  },
  {
   "cell_type": "markdown",
   "id": "60dec8a6-a41c-484a-8229-81a74ca1dc38",
   "metadata": {
    "ExecuteTime": {
     "end_time": "2024-06-02T09:41:48.739182Z",
     "start_time": "2024-06-02T09:41:48.734142Z"
    }
   },
   "source": [
    "# Function to calculate the number of days until the start of a given month and year\n",
    "def days_until_month_start(year, month):\n",
    "    today = datetime.today()\n",
    "    first_day_of_month = datetime(year, month, 1)\n",
    "    difference = first_day_of_month - today\n",
    "    return difference.days"
   ]
  },
  {
   "cell_type": "code",
   "id": "dd414e4d-e270-4ca3-b888-325a49c872d6",
   "metadata": {
    "ExecuteTime": {
     "end_time": "2024-06-06T16:45:20.641622Z",
     "start_time": "2024-06-06T16:45:20.633128Z"
    }
   },
   "source": [
    "def days_until_end_of_month(year,month):\n",
    "    # Today's date\n",
    "    today = datetime.date.today()\n",
    "    \n",
    "    # First day of the given month and year\n",
    "    first_of_month = datetime.date(year, month, 1)\n",
    "    \n",
    "    # Last day of the given month\n",
    "    if month == 12:\n",
    "        last_of_month = datetime.date(year + 1, 1, 1) - datetime.timedelta(days=1)\n",
    "    else:\n",
    "        last_of_month = datetime.date(year, month + 1, 1) - datetime.timedelta(days=1)\n",
    "\n",
    "    # Calculating days from today to the end of the month\n",
    "    if today > last_of_month:\n",
    "        # If today is past the end of the month, return 0 days\n",
    "        return 0\n",
    "    elif today < first_of_month:\n",
    "        # If today is before the month starts, calculate from today to the last day of the month\n",
    "        return (last_of_month - today).days \n",
    "    else:\n",
    "        # Normal case within the month, calculate from today to the last day of the month\n",
    "        return (last_of_month - today).days \n"
   ],
   "outputs": [],
   "execution_count": 2
  },
  {
   "cell_type": "code",
   "id": "95dab609-944a-497c-aeb0-e6e702c28d8b",
   "metadata": {
    "ExecuteTime": {
     "end_time": "2024-06-06T16:45:20.650628Z",
     "start_time": "2024-06-06T16:45:20.643121Z"
    }
   },
   "source": [
    "# Define the URL of the website and the car model to search for\n",
    "car_model =\"שברולט\"\n",
    "url = \"https://www.ad.co.il/car\""
   ],
   "outputs": [],
   "execution_count": 3
  },
  {
   "cell_type": "code",
   "id": "8767fd3a-23a6-4d86-9a52-d6266f5d9652",
   "metadata": {
    "ExecuteTime": {
     "end_time": "2024-06-06T16:45:21.588917Z",
     "start_time": "2024-06-06T16:45:20.650628Z"
    }
   },
   "source": [
    "# Send a request to the website and parse the content\n",
    "response = requests.get(url)\n",
    "soup = BeautifulSoup(response.content, \"html.parser\")"
   ],
   "outputs": [],
   "execution_count": 4
  },
  {
   "cell_type": "code",
   "id": "31bc283bba2acb32",
   "metadata": {
    "ExecuteTime": {
     "end_time": "2024-06-06T16:45:21.600087Z",
     "start_time": "2024-06-06T16:45:21.589301Z"
    }
   },
   "source": [
    "# Find the section containing the car model\n",
    "car_shev = soup.find_all(\"div\", class_=\"fast-filters-children d-flex flex-row align-items-center me-3 mb-1\")"
   ],
   "outputs": [],
   "execution_count": 5
  },
  {
   "cell_type": "code",
   "id": "37721ab3-0a6e-408b-b30a-52e7eaa15f91",
   "metadata": {
    "ExecuteTime": {
     "end_time": "2024-06-06T16:45:21.609597Z",
     "start_time": "2024-06-06T16:45:21.600087Z"
    }
   },
   "source": [
    "# Extract the URL for the specific car model\n",
    "for element in car_shev:\n",
    "    anchor_tags = element.find_all(\"a\")  # Find all anchor tags within this element\n",
    "    for tag in anchor_tags:\n",
    "        if car_model in tag.text:\n",
    "            tag_model = tag['href']\n",
    "            keywords_model = tag_model[tag_model.find(\"?\"):]\n",
    "            \n",
    "keywords_model"
   ],
   "outputs": [
    {
     "data": {
      "text/plain": [
       "'?sp261=13891'"
      ]
     },
     "execution_count": 6,
     "metadata": {},
     "output_type": "execute_result"
    }
   ],
   "execution_count": 6
  },
  {
   "cell_type": "markdown",
   "id": "a8e7cd64-6e37-4964-beb8-8b5a0e318866",
   "metadata": {},
   "source": [
    "__________________________"
   ]
  },
  {
   "cell_type": "code",
   "id": "38493be25be92b3a",
   "metadata": {
    "ExecuteTime": {
     "end_time": "2024-06-06T16:45:22.249745Z",
     "start_time": "2024-06-06T16:45:21.610091Z"
    }
   },
   "source": [
    "# Send a request to the car model's URL and parse the content\n",
    "response = requests.get(url+keywords_model)\n",
    "soup = BeautifulSoup(response.content, 'html.parser')"
   ],
   "outputs": [],
   "execution_count": 7
  },
  {
   "cell_type": "code",
   "id": "cfb685d1-d9dd-40a4-b235-b7db015d149e",
   "metadata": {
    "ExecuteTime": {
     "end_time": "2024-06-06T16:45:22.258026Z",
     "start_time": "2024-06-06T16:45:22.249745Z"
    }
   },
   "source": [
    "# Extract pagination URLs\n",
    "pagination = soup.find('ul', class_=\"pagination justify-content-between justify-content-sm-center flex-wrap\")\n",
    "page_items = pagination.find_all('li', class_=\"page-item\")\n",
    "page_urls_all = [item.find('a')['href'] for item in page_items if item.find('a')]\n",
    "page_urls = list(set(page_urls_all))\n",
    "page_urls"
   ],
   "outputs": [
    {
     "data": {
      "text/plain": [
       "['/car?sp261=13891&pageindex=3',\n",
       " '/car?sp261=13891&pageindex=4',\n",
       " '/car?sp261=13891',\n",
       " '/car?sp261=13891&pageindex=2']"
      ]
     },
     "execution_count": 8,
     "metadata": {},
     "output_type": "execute_result"
    }
   ],
   "execution_count": 8
  },
  {
   "cell_type": "code",
   "id": "541568d8-d2c6-4f75-b00e-834400347ba7",
   "metadata": {
    "ExecuteTime": {
     "end_time": "2024-06-06T16:45:22.264877Z",
     "start_time": "2024-06-06T16:45:22.259385Z"
    }
   },
   "source": [
    "# Function to scrape data IDs from each page\n",
    "def scrape_data_ids(url_model):\n",
    "    url = \"https://www.ad.co.il\"\n",
    "    response = requests.get(url_model)\n",
    "    soup = BeautifulSoup(response.text, 'html.parser')\n",
    "    cards_container = soup.find('div', class_='cards-wrap s m l')\n",
    "    data_ids = []\n",
    "    cards = cards_container.find_all('div', class_='card-block')\n",
    "    for card in cards:\n",
    "        data_id = card.get('data-id')\n",
    "        if data_id:  # Check if data-id is not None\n",
    "            data_id = url + \"/ad/\" + str(data_id)\n",
    "            data_ids.append(data_id)\n",
    "    return data_ids\n",
    "\n",
    "data_ids_pags = []"
   ],
   "outputs": [],
   "execution_count": 9
  },
  {
   "cell_type": "code",
   "id": "545946276e539c54",
   "metadata": {
    "ExecuteTime": {
     "end_time": "2024-06-06T16:45:24.719957Z",
     "start_time": "2024-06-06T16:45:22.264877Z"
    }
   },
   "source": [
    "# Collect data IDs from all pages\n",
    "for page_url in page_urls:\n",
    "    full_url = 'https://www.ad.co.il' + page_url\n",
    "    data_ids = scrape_data_ids(full_url)\n",
    "    data_ids_pags.extend(data_ids)\n",
    "\n",
    "print(f\"Total data IDs collected: {len(data_ids_pags)}\")"
   ],
   "outputs": [
    {
     "name": "stdout",
     "output_type": "stream",
     "text": [
      "Total data IDs collected: 183\n"
     ]
    }
   ],
   "execution_count": 10
  },
  {
   "cell_type": "markdown",
   "id": "4c003ea6-50ae-4500-9c5a-363a0b0efd26",
   "metadata": {},
   "source": [
    "_____________"
   ]
  },
  {
   "cell_type": "code",
   "id": "97eda63f-f37b-450c-9a6e-f30118d15668",
   "metadata": {
    "ExecuteTime": {
     "end_time": "2024-06-06T16:45:24.733118Z",
     "start_time": "2024-06-06T16:45:24.719957Z"
    }
   },
   "source": [
    "# Function to scrape car data from each car's page\n",
    "def scrape_car_data(url):\n",
    "    response = requests.get(url)\n",
    "    soup = BeautifulSoup(response.text, 'html.parser')\n",
    "    manufactor = car_model\n",
    "    cars_card_div = soup.find('div', class_=\"d-flex justify-content-between\") \n",
    "    cars_card = cars_card_div.find_all('h2', class_=\"card-title\")\n",
    "    if len(cars_card) == 1:\n",
    "        price = None\n",
    "    else:\n",
    "        price = float(cars_card[1].get_text()[:-1].replace(',', '').replace('₪', '').strip()) if cars_card else None\n",
    "    \n",
    "    model_string = cars_card[0].get_text().split() if cars_card else 'N/A'  \n",
    "    model = ' '.join(model_string[1:])\n",
    "\n",
    "    cars_table = soup.find('table', class_=\"table table-sm mb-4\")\n",
    "    rows = cars_table.find_all('tr') if cars_table else []\n",
    "       \n",
    "    # Initialize variables \n",
    "    year = None\n",
    "    hand = None\n",
    "    gear = 'N/A'\n",
    "    engine_capacity = None\n",
    "    engine_type = 'N/A'\n",
    "    area = 'N/A'\n",
    "    city = 'N/A'     \n",
    "    prev_ownership =  'N/A'\n",
    "    curr_ownership = 'N/A'\n",
    "    color = 'N/A'\n",
    "    test_date = None\n",
    "    km = None\n",
    "        \n",
    "    # Extract data from the table\n",
    "    for row in rows:\n",
    "        cells = row.find_all('td')\n",
    "        if len(cells) == 2:\n",
    "            key = cells[0].text.strip()\n",
    "            value = cells[1].text.strip()\n",
    "\n",
    "            if key == 'שנה':\n",
    "                year = int(value)\n",
    "            elif key == 'יד':\n",
    "                hand = int(value)   \n",
    "            elif key == 'ת. הילוכים':\n",
    "                gear = value\n",
    "            elif key == 'נפח':\n",
    "                engine_capacity = int(value.replace(',', ''))  # Remove comma from engine capacity\n",
    "            elif key == 'סוג מנוע':\n",
    "                engine_type = value\n",
    "            elif key == 'אזור':\n",
    "                area = value\n",
    "            elif key == 'עיר':\n",
    "                city = value\n",
    "            elif key == 'ק\"מ':\n",
    "                km = int(value.replace(',', ''))\n",
    "            elif key == 'צבע':\n",
    "                color = value\n",
    "            elif key == 'בעלות קודמת':\n",
    "                prev_ownership = value\n",
    "            elif key == 'בעלות נוכחית':\n",
    "                curr_ownership = value\n",
    "            elif key == 'טסט עד':\n",
    "                test_date = value\n",
    "    \n",
    "    test = int(days_until_end_of_month(int(test_date.split(\"/\")[1]),int(test_date.split(\"/\")[0]))) if test_date else None\n",
    "    cre_date =soup.find_all('div',class_=\"px-3\")[0].get_text().split()[-1] if soup.find_all('div',class_=\"px-3\")[0] else 'N/A'\n",
    "    repub_date = soup.find_all('div',class_=\"px-3\")[1].get_text().split()[-1] if soup.find_all('div',class_=\"px-3\")[0] else 'N/A'\n",
    "    description = soup.find('p',class_=\"text-word-break\").get_text().replace('\\n', '').replace('\\r', ' ') if soup.find('p',class_=\"text-word-break\") else 'No description'\n",
    "    pic_num = len(soup.find_all('div', class_='justify-content-center px-1')) if soup.find_all('div', class_='justify-content-center px-1') else None\n",
    "\n",
    "    # Add each car's data as a list to the car_data list\n",
    "    car_data =[manufactor, year, model, hand, gear, engine_capacity, engine_type, prev_ownership,\n",
    "                      curr_ownership, area, city, price, pic_num, cre_date, repub_date, description, color, km,test]\n",
    "    return car_data"
   ],
   "outputs": [],
   "execution_count": 11
  },
  {
   "cell_type": "code",
   "id": "9e2ea42b-ff4c-43c6-ba15-67ce530251aa",
   "metadata": {
    "ExecuteTime": {
     "end_time": "2024-06-06T16:45:24.742148Z",
     "start_time": "2024-06-06T16:45:24.734120Z"
    }
   },
   "source": [
    "# Create an empty DataFrame with the specified columns\n",
    "df_b_f = pd.DataFrame(columns=['manufactor','Year','model','Hand','Gear','capacity_Engine','Engine_type','Prev_ownership',\n",
    "                                         'Curr_ownership','Area','City','Price','Pic_num','Cre_date','Repub_date','Description','Color','Km',\n",
    "                                         'Test'])"
   ],
   "outputs": [],
   "execution_count": 12
  },
  {
   "cell_type": "code",
   "id": "1c847e7e-94a4-4e17-9b4b-983abb825cfc",
   "metadata": {
    "ExecuteTime": {
     "end_time": "2024-06-06T16:47:14.560267Z",
     "start_time": "2024-06-06T16:45:24.742148Z"
    }
   },
   "source": [
    "# Scrape car data for each car and add to the DataFrame\n",
    "list_cars = []\n",
    "for car_url in data_ids_pags:\n",
    "    car_data = scrape_car_data(car_url)\n",
    "    df_b_f.loc[len(df_b_f)]=car_data"
   ],
   "outputs": [],
   "execution_count": 13
  },
  {
   "cell_type": "code",
   "id": "c97c777f-b34e-41fa-8c58-bd7b50ddd23b",
   "metadata": {
    "ExecuteTime": {
     "end_time": "2024-06-07T05:18:27.208503Z",
     "start_time": "2024-06-07T05:18:27.204123Z"
    }
   },
   "source": [
    "df = df_b_f "
   ],
   "outputs": [],
   "execution_count": 51
  },
  {
   "cell_type": "code",
   "id": "e6a57659-84b4-4d0c-9e04-8ed99145f4c0",
   "metadata": {
    "ExecuteTime": {
     "end_time": "2024-06-07T05:18:27.878452Z",
     "start_time": "2024-06-07T05:18:27.859663Z"
    }
   },
   "source": [
    "df= df[(df['Year'] >= 1980) & (df['Year'] <= 2011)]\n",
    "\n",
    "df['Repub_date'] = pd.to_datetime(df['Repub_date'], format='%d/%m/%Y')\n",
    "df['Cre_date'] = pd.to_datetime(df['Cre_date'], format='%d/%m/%Y')\n",
    "\n",
    "df['Km'] = pd.to_numeric(df['Km'], errors='coerce')\n",
    "df['Km'] = df['Km'].astype('Int64')\n",
    "\n",
    "df['Pic_num'] = df['Pic_num'].fillna(0).astype(int)\n",
    "df['Price'] = df['Price'].astype(float)\n",
    "df['Test'] = pd.to_numeric(df['Test'], errors='coerce')\n",
    "df['Test'] = df['Test'].astype('Int64')\n",
    "\n",
    "df['Gear'] = df['Gear'].astype('category')\n",
    "df['Engine_type'] = df['Engine_type'].astype('category')\n",
    "df['Prev_ownership'] = df['Prev_ownership'].astype('category')\n",
    "df['Curr_ownership'] = df['Curr_ownership'].astype('category')\n",
    "\n",
    "df['Color'] = df['Color'].astype('string')\n",
    "df['Area'] = df['Area'].astype('string')\n",
    "\n",
    "# Replace HTML entities with actual characters\n",
    "\n",
    "# Replace HTML entities with actual characters\n",
    "df['Description'] = df['Description'].replace({'&lt;': '<', '&gt;': '>'}, regex=True)\n",
    "\n",
    "# Replace problematic HTML-like tags with a placeholder\n",
    "df['Description'] = df['Description'].replace({'<br/>': 'PLACEHOLDER'}, regex=True)\n",
    "\n",
    "# Remove placeholders or unwanted tags if necessary\n",
    "df['Description'] = df['Description'].replace({'PLACEHOLDER': ' '}, regex=True)\n",
    "\n",
    "# Convert the column to string type\n",
    "df['Description'] = df['Description'].astype('string')\n",
    "df['City'] = df['City'].astype('string')"
   ],
   "outputs": [],
   "execution_count": 52
  },
  {
   "metadata": {
    "ExecuteTime": {
     "end_time": "2024-06-07T05:18:28.804893Z",
     "start_time": "2024-06-07T05:18:28.797359Z"
    }
   },
   "cell_type": "code",
   "source": "df['Description'].unique()",
   "id": "47f91c9d7c579d",
   "outputs": [
    {
     "data": {
      "text/plain": [
       "<StringArray>\n",
       "[                                                                                                                                                                                                                                                                                                                                                                                                                                                                                                                                           'שברולט מאליבו, בצבע זהב מטלי, יד שלישית, 150640 קילומטרים מצב מכני מצוין ,4 צמיגים חדשים חווית נהיגה מושלמת ,שמור ',\n",
       "                                                                                                                                                                                                                                                                                                                                                                                                                                                                                                                                                                                                    'רכב חזק הכל תקין עבר טיפול גדול   פירוט:  דגם מפואר פתח גג',\n",
       "                                                                                                                                                                                                                                                                                                                                                                                                                                                                                                                                                                                                                                        'רכב במצב טוב סוס עבודה',\n",
       "                                                                                                                                                                                                                                                                                                                                                                                                                                                                                                                                                                                                           'טסט לשנה עד יוני 2023. רכב חסכוני בדלק, מרווח מאוד ',\n",
       "                                                                                                                                                                                                                                                                                                                                                                                                                                                                                           'שברולט קפטיבה מנוע בנזין 3200 ,7 מקומות ישיבה ,מערכת גמ\"פ,יש בעיה עם המנוע כנראה שהלך מנוע נוסע אבל לא סוחב,בבדיקה של הרכב במוסך שברולט פספוסי הצתה ,לכן המחיר נמוך',\n",
       "                                                                                                                                                                                                                                                                                                                                                                                                                                                                                                                                                                       \"ג'י אם סי ספארי.יד ראשונה רכב עומד מספר שנים במצב טוב.מניע ונוסע.יש צורך בטסט ולהיתראות\",\n",
       "                                                                                                                                                                                                                                                                                                                                                                                                                                                                                                                                                                                          'רכב סלון ,מפנק ,אמין ,משרת את המשפחה 9 שנים ,מטופל בזמן ללא חריגות .',\n",
       "                                                                                                                                                                                                                                                                                                                                                                                                                                                                                                                                                           'רכב נכה עם דלת חשמלית ומעלון.שמור. חמש נוסעים ומרכז הרכב פנוי לכסא גלגלים. נמכר עקב פטירת בעל הרכב.',\n",
       "                                                                                                                                                                                                                                                                                                                                                                                                                                                                                                                                        'מטופלת בחברה 78000 אלף קילומטר טסט עד 02/23   פירוט:  לפרטים נוספים שלחו הודעה בווטסאפ ואחזור 0549800449 לא בשבת תודה ',\n",
       "                                                                                                                                                                                                                                                                                                                                                                                                                                                                                                                                                                               \"רכב שמור , אפס תקלות קילומטראז' נמוך ביחס לשנה נסיעה נוחה רכב אמריקאי מזגן תקין\",\n",
       "                                                                                                                                                                                                                                                                                                                                                                                                                                                                                                                                                                            'רכב במצב מצויין נסיעה שקטה וחלקה! לפרטים נוספים נא לחייג, גמיש טיפה לרציניים בלבד!',\n",
       "                                                                                                                                                                                                                                                                                                                                                                                                                                                                                                                                   'רכב במצב מצויין, טסט לעשרה חדשים, 4X2,   פירוט:  מערכת גז אומבל, חסכונית באופן משמעותי ביותר. עם כריות אוויר, ABS, אוטומטי.',\n",
       "                                                                                                                                                                                                                                                                                                                                                                                                                                                                                                                 'שמורה מאוד במצב מצוין עקב קבלת מכונית מהחברה   פירוט:  גלגלים חדשים ,מצבר חדש,גג הפתוח עובד ,חלונות חשמליים,פשוט כל הקודם זוכה!!! גמישה במחיר',\n",
       "                                                                                                                                                                                                                                                                                                                                                                                                                                                                                                                                                                                                             'מתחייב על הכל טסט לשנה אוטו עם כל התוספות לא בשבת',\n",
       "                                                                                                                                                                                                                                                                                                                                                                                                                                                                                                                                                                                                                                         'מצב נדיר מטופל בקנאות',\n",
       "                                                                                                                                                                                                                                                                                                                                                                                                          \"רכב מושקע מטופל ושמור!!! נעשה בו טיפול 10,000 השבוע! טסט עד סוף שנה. כל חלק וחלק מקורי והרכב מגיע עם היומן טיפולים ותיקייה עם כל המידע שצריך לדעת על הרכב. והפינוק מערכת מולטימדיה חדשה 9 אינץ' שיש בה הכול   פירוט:  כיסוי להגה, שמן מנוע ומי קירור\",\n",
       "                                                                                                                                                                                                                                                                                                                                                                                                                                                                                                                                                                                                                        'רכב שמור עם טסט עד אוקטובר לאחר טיפול ',\n",
       " 'רכב שמור במצב נדיר,בשנת 1986 יוצרו הרכבים האלו עם חבילת מדבקות חיצונית ולוח מקורות פנים. רק 7,135 מכוניות קורבט כאלו נבנו בשנת 1986. מייל נמוך, יד ראשונה , מתחת למכסה המנוע של מונח מנוע V-8 350CI L98 מכוון דלק, שהוצמד לתיבת הילוכים אוטומטית בעלת 4 הילוכים. מכונית פייס ספציפית זו צבועה בלבן פריכה ומודגשת עם פנים עור גרפיט. מיזוג אוויר, רדיו קלטות AM/FM, תמיכה מותנית, מושבי כוח, בלמי כוח, הגה כוח, חלונות חשמל, מנעולי חשמל, מראות כוח, בקרת שיוט, בלמים נגד נעילה ועוד הרבה הרבה יותר. קורבט 1998 היא בין מכונית הספורט האמיתית הטובה ביותר שהכסף שלך יכול לקנות. סלקט מוטורס SelectMotors.org יבוא אישי רכבי יוקרה אופנועים ואספנות 050-5829568',\n",
       "                                                                                                                                                                                                                                                                                                                                                   'הרכב במצב נדיר, שמורה ומטופלת כחדשה, רק 37.400 ק\"מ, גג פנורמי מושחר, V8 בנפח 5.7 ליטר בהספק 240 כ\"ס עם הזרקת דלק כוונון. תיבת הילוכים  אוטומטית, קורבט 1998 היא בין מכונית הספורט האמיתית הטובה ביותר שהכסף שלך יכול לקנות. סלקט מוטורס SelectMotors.org יבוא אישי רכבי יוקרה אופנועים ואספנות 050-5829568 ',\n",
       "                                                                                                                                                                                                                                                                                                                                                                                                                                                                                                                                                                                                                'רכב חסכוני בדלק, בבעלותי 9 שנים, צמיגים חדשים.',\n",
       "                                                                                                                                                                                                                                                                                                                                                                                                                                                                                                                                                                                                                                               'רכב מעולה נוסע ',\n",
       "                                                                                                                                                                                                                                                                                                                                                      'שברולט קרוז 2011 יוצאת למכירה  שמורה בקנאות, נהג יחיד.  טסט לשנה 05/22 200אלף קילומטר  מצבר חדש, צמיגים חדשים, טיפול 10 אלף כולל הכל פילטר שמן, אוויר, שמן ומים, רצועת טיימינג, פלאגים מכסה שסתומים ועוד… מזגן חום קור פצצה.  החלפו קולר, מחזירי שמן.  מצב מכאני מדהים כל הקודם זוכה! לפרטים- 0586474564',\n",
       "                                                                                                                                                                                                                                                                                                                                                                                                                                                                                                                                                                   'כמו חדש !! ללא תאונות, נוחות ישיבה אדירה, מושב נהג כיונון חשמלי,   פירוט:  טלפון קבוע ברכב.',\n",
       "                                                                                                                                                                                                                                                                                                                                                                                                                                                                                                                                                                                                                                                'No description',\n",
       "                                                                                                                                                                                                                                                                                                                                                                                                                                                                                                                                                                          'יד ראשונה, נהג יחיד, שמורה היטב, ללא תאונות.  לרציניים, אוהבי מכוניות אמריקאיות !!! ',\n",
       "                                                                                                                                                                                                                                                                                                                                                                                                                                                                                                                                                           'בס\"ד רכב במצב טוב מאוד הכל תקין טסט לשנה מחיר זול עקב קבלת רכב מהעבודה נא לא לחייג בשבת נהגת יחידה ',\n",
       "                                                                                                                                                                                                                                                                                                                                                                                                                                                                                                                                                                                        'בס\"ד רכב במצב טוב מאוד הכל תקין טסט לשנה מחיר זול עקב קבלת רכב מהעבודה',\n",
       "                                                                                                                                                                                                                                                                                                                                                                                                                                                                                                                                            'רכב שמור לא יצא מהעיר אין לא טסט חודשיים כי קניתי רכב חדש והוא עמד בגינה של הבית   פירוט:  4 צמיגים אורגנלים חדשים',\n",
       "                                                                                                                                                                                                                                                                                                                                                                                                                                                                              'שברולט מאליבו 2010 נהג יחיד ,חניה פרטית  יד 2 רכב אמין וחזק נפח מנוע 3600 סמק 190000 נסע נעשה לו שירות לפני שבוע  ועליו 4 צמיגים חדשים טסט עד 08/2022 נעשה לו שירות. ב 14/7/2022',\n",
       "                                                                                                                                                                                                                                                                                                                                                                                                                                                                                                                                                                                                                   'מצב טוב מאד מטופל היטב מזגן מעולה ללא בעיות',\n",
       "                                                                                                                         '1980 שברולט Chevrolet corvetteרכב שמור ומטופל, לאחר שחזור מלא בסדנה המתמחה בקורבטים.מנוע: 190hp 350ci ,גג T מתפרק.יבוא מקביל, אנו פועלים עם רישיון יבואן מקביל , וכן רישיון תיווך יבוא אישי מטעם משרד התחבורה, כ\"כ חתימת הסכם בליווי עו\"ד.\"כולל בדיקה מקיפה, מכנית, וויזואלית ע\"י חברה חיצונית מתמחה, וקבלת דו\"ח מפורט ותמונות מצורפות.\"בבקשה רק רציניים לפנות, הרכב ביבוא לא נמצא בארץ.זמני אספקה מהירים במיוחד ~~ ליווי צמוד ויחס אישי,סלקט מוטורס SelectMotors.org יבוא מקביל, יבוא אישי, רכבי יוקרה אופנועים ואספנות 050-5829568 ',\n",
       "                                                                                                                                                                                                                                                                                                                                                                                                                                                                                                                                                                                                                                                  'יד 02 קמ 270',\n",
       "                                                                                                  '** היפה ** והחיה *C-4 צבע מיוחד.1992 שברולט קורבט LT 1 *גיר ידני 6 הילוכים *מושקעת ושמורה * גג טארגה שקוף מתפרק  V-8 מנוע, 3505.7 ליטר 300 סוסים ** 0-100 5.7 שניות. 107.000 מייל.מושבים מעור חדשים בהזמנה עם גימור תפירה תואם לצבע הרכב,+ ממיר קטליטי חדש + 4 בולמי זעזועים חדשים (KYB) +כבלים אחורי וקדמי בלם יד + צמיגים חדשים + מגיני שמש חדשים+ מצבר חדש +אחריות לשנתיים, הוחלפו שמנים, מערכת סוני מחליפת צבעים, הכל עובד והרכב נוסע מעולה 100%.חיה רעה. טסט 11/24 115.000 ש\"ח*** עוד הצגה מיוחדת**עסקה שלא תחזור על עצמה!!!לפרטים בוותצאפ 050-5829568 ',\n",
       "                                                                                                                                                                                                                                                                                                                                                                                                                                                                                                                                                                                                                                   'רכב שמור ומטופח, מטופל היטב',\n",
       "                                                                                                                                                                                                                                                                                                                                                                                                                                                                                                                                                                                                          'רכב לכל כיס במצב טוב מאוד.. ליצור קשר דרך ה whatsup ',\n",
       "                                                                                                                                                                                                                                                                                                                                                                                                                                                                                                                                                           '210,000 קילומטר טסט עד 08/2023 ברכב מותקנת מערכת גז (גפ״מ) לחיסכון של 50 אחוז בדלקהרכב במצב מצויין ',\n",
       "                                                                                                                                                                                                                                                                                                                                                                                                                                                                                                                                                                                       'שברולט קרוז 2009 מבע שמפניה, 65000 ק\"מ בלבד, מצב מצויין. טסט לשנה. יד 2',\n",
       "                                                                                                                                                                                                                                                                                                                     'שברולט אופטרה 1.6 ידנית שנת 2008 עם קילמטראז\\' נמוך- 164000 ק\"מ.רכב ידני! נוסע מעולה לכל מקום בארץ. חזק בעליות.חסכוני בדלק.מרווח ונוח גם לנהג וגם לנוסעים. בגאז\\' גדול.הכל עובד פיקס! מזגן,חימום,חלונות חשמל,מראות חשמל, רדיו USB.פנים הרכב מצב חדש!לאחרונה נעשה טיפול של שמן/פילטר שמן(מקורי),פילטר אויר ופלאגים.טסט עד סוף ינואר 2023! ',\n",
       "                                                                                                                                                                                                                                                                                                                                                                                                                                                                    'גיר מיבוא יש על הגיר שלושה חודשי אחריות מUMI ממיר קטליטי חדש 2 חיישני למדה חדש אלטרנטור חדש וגם רדיאטור אלומיניום רכב מושקע ביותר מ..10k טסט עד 30/08/22 מבקש 10k הרכב בבעלותי מ28/03/2019',\n",
       "                                                                                                                                                                                                                                                                                                                                                                                                                                                                                                                                                                                           \"קילומטראז' נמוך. במצב טוב חוץ מאחת הדלתות האחוריות שנפתחת רק מבפנים\",\n",
       "                                                                                                                                                                                                                                                                                                                                                                                                                                                                                                                                                                                                                                                      'רכב חדש ',\n",
       "                                                                                                                                                                                                                                                                                                                                                                                                                                                                                                                                                                                                 'רכב מפרטי, שמור היטב, מכירה מיידית   פירוט:  מערכת מוליטמדיה ',\n",
       "                                                                                                                                                                                                                                                                                                                                                                                                                                                                                                                                                                                 'רכב שמור במצב טוב חלונות חשמל מגנזיום שליטה על מערכת שמע מההגה טסט ל 11חודשים',\n",
       "                                                                                                                                                                                                                                                                                                                                                                                                                                                                                                                                                  'רכב במצב מעולה חוץ מהמנוע שהלך לפירוק או נסיעה יד 5 טסט 8 חודשים   פירוט:  גנטים מגנזיום מערכת נעילה מרכזית ',\n",
       "                                                                                                                                                                                                                                                                                                                                                   'שברולט Captiva LTZ ג׳יפון גבוה במצב מושלם  נוח ונעים לנסיעה, לא מרגישים את הכביש  בטיחותי גבוה  מרווח, מקדימה ומאחורה  שמור היטב  בגאז׳ ענק   פירוט:  מערכת מולטימדיה עם כל האפליקציות חלונות שחורים מאחורה  גגון נפתח חשמלי  סלון מעור בז׳ מצלמות רוורס  2 מצלמות פנימיות מחוברות לבטיחות  - צילום הנסיעה ',\n",
       "                                                                                                                                                                                                                                                                                                                                                                                                                                                                                                                                                                                                                                       'מצב מצוין חסכוני ואמין ',\n",
       "                                                                                                                                                                                                                                                                                                                                                                                                                                                                                                                                                                             'רכב מפנק ,נסיעה שקטה טסט עד אוגוסט 2023 שווה את המחיר ,הכל מקורי באוטו והכל עובד.',\n",
       "                                                                                                                                                                                                                                                                                                                                                                                                               'דורש 6אלף, גמיש ליד הרכב נקנה אם 75000 אלף ק״מ עדיין לא הגיע ל100000 הכל מתוקן, בלי מנורות דולקות, טסט עד מאי 6 מזגן עובד, והכל תקין. יש מכה בצד ימין של הרכב, כי מישהו/ מישהי דפקו את הרכב בחנייה.   פירוט:  מסך אנדרואיד 10 אינץ אם מגבר וסאב',\n",
       "                                                                                                                                                                                                                                                                                                                                                                                                                                                                                                                                           'שברולט סוניק שמורה ספר טיפולים היום נעשה טיפול גדול בחברה , נוסע מצוין !   פירוט:  מסך מולטימידה 10 אינצ מלצמת דרך ',\n",
       "                                                                                                                                                                                                                                                                                                                                                                                                                                                                                                                                                                         'מצב מיכני (גיר מנוע תקין) , הסתיים טסט ב 24/8/2022, לא הגיע ל 3000 ק״ם בשנה האחרונה .',\n",
       "                                                                                                                                                                                                                                                                                                                                                                                                                                                                                                                                                                     'שברולט אבאו 2009 במצב מצוין 209,000 ק\"מ יד 3 טסט 3/23 מחיר 12,000 ש\"ח   פירוט:  מצלמת דרך',\n",
       "                                                                                                                                                                                                                                                                                                                                                                                                                                                                                                                   'רכב במצב מיכני וחיצוני מעולה. מטופל בזמן ושמור בקנאות.  הוחלפו לאחרונה 4 צמיגים. טסט לשנה, עד אוגסט 2023. גמישות קלה במחיר, לרציניים בלבד. ',\n",
       "                                                                                                                                                                                                                                                                                                                                                                                                                                                                                                                                                                                       'כל הקודם זוכה. אפשרות לחשבונית יש כנף להחלפה בצד נהג   פירוט:  וו גרירה',\n",
       "                                                                                                                                                                                                                                                                                                                                                                                                                                                                                                                                                                                                            ' רכב מעולה מצב מכני נדיר נסע רק 17090 ק\"מ שמור מאד',\n",
       "                                                                                                                                                                                                                                                                                                                                                                                                                                                                                                                                               'שברולט קרוז 2011 יד 04 טסט לחצי שנה בערך מצב מכני מצוין רכב שמור מטופל בזמן קילומטר 210מחיר 9.000 אזור תל אביב ',\n",
       "                                                                                                                                                                                                                                                                                                                                                                                                                                                                                                            'שימשה כרכב שני, בעיקר לנסיעות בעיר, קילומטרז נמוך, שמורה, מטופלת במוסך מורשה. ללא תאונות. טסט עד סוף ספטמבר.   פירוט:  חיישני רברס, מערכת התרעות. ',\n",
       "                                                                                                                                                                                                                                                                                                                                                                                                                                                                                                                                                                                                            'רכב אמין ומעולה , מתאים גם לנסיעות למרחקים גדולים.',\n",
       "                                                                                                                                                                                                                                                                                                                                                                                                  'למכירה בהזדמנות!!!  שברולט מאליבו  שנת 2008  מנוע 3510 סמ\"ק 134,000 ק\"מ  הנעה מהשלט כולל מסך מולטימדיה +מוביליי  טסט 05/23 מצב מכני מעולה  שמורה ומטופלת-מצב חדש! כל הקודם זוכה   לפרטים נוספים נופר 0506899690   פירוט:  הנעה מהשלט  מוביליי  מסך מולטימדיה']\n",
       "Length: 58, dtype: string"
      ]
     },
     "execution_count": 53,
     "metadata": {},
     "output_type": "execute_result"
    }
   ],
   "execution_count": 53
  },
  {
   "cell_type": "code",
   "id": "05472436-e8e5-4f5b-ab10-36ad6af9a49f",
   "metadata": {
    "ExecuteTime": {
     "end_time": "2024-06-07T05:18:31.761945Z",
     "start_time": "2024-06-07T05:18:31.756799Z"
    }
   },
   "source": "df.dtypes ",
   "outputs": [
    {
     "data": {
      "text/plain": [
       "manufactor                 object\n",
       "Year                        int64\n",
       "model                      object\n",
       "Hand                        int64\n",
       "Gear                     category\n",
       "capacity_Engine             int64\n",
       "Engine_type              category\n",
       "Prev_ownership           category\n",
       "Curr_ownership           category\n",
       "Area               string[python]\n",
       "City               string[python]\n",
       "Price                     float64\n",
       "Pic_num                     int32\n",
       "Cre_date           datetime64[ns]\n",
       "Repub_date         datetime64[ns]\n",
       "Description        string[python]\n",
       "Color              string[python]\n",
       "Km                          Int64\n",
       "Test                        Int64\n",
       "dtype: object"
      ]
     },
     "execution_count": 54,
     "metadata": {},
     "output_type": "execute_result"
    }
   ],
   "execution_count": 54
  },
  {
   "cell_type": "markdown",
   "id": "d9410ddd-44ec-4b24-9b06-c36ff1b59f14",
   "metadata": {},
   "source": [
    "________________________________________"
   ]
  },
  {
   "cell_type": "markdown",
   "id": "d58f2355-b929-4500-8901-f7b405f43356",
   "metadata": {
    "tags": []
   },
   "source": [
    "## Supply_score"
   ]
  },
  {
   "cell_type": "code",
   "id": "3ee894a4363322e1",
   "metadata": {
    "ExecuteTime": {
     "end_time": "2024-06-07T05:18:39.275330Z",
     "start_time": "2024-06-07T05:18:39.270060Z"
    }
   },
   "source": [
    "df['model'].unique()"
   ],
   "outputs": [
    {
     "data": {
      "text/plain": [
       "array(['מאליבו', 'אפלנדר', 'ספארק', 'אוואו', 'אלרו', 'קרוז', 'אופטרה',\n",
       "       'קורבט', 'אבאו', 'טראקס', 'קורסיקה', 'אפיקה', 'סוניק'],\n",
       "      dtype=object)"
      ]
     },
     "execution_count": 55,
     "metadata": {},
     "output_type": "execute_result"
    }
   ],
   "execution_count": 55
  },
  {
   "cell_type": "code",
   "id": "96cce6067010c1df",
   "metadata": {
    "ExecuteTime": {
     "end_time": "2024-06-07T05:18:39.477758Z",
     "start_time": "2024-06-07T05:18:39.473892Z"
    }
   },
   "source": [
    "# Dictionary to map Hebrew model names to English model names\n",
    "hebrew_to_english = {\n",
    "    'קרוז': 'Cruz',\n",
    "    'אורלנדו': 'Orlando',\n",
    "    'מליבו': 'Malibu',\n",
    "    'ספארק': 'Spark',\n",
    "    'אקווינוקס': 'Equinox',\n",
    "    'סוניק': 'Sonic',\n",
    "    'קורבט': 'Corvette',\n",
    "    'אבאו': 'Avo',\n",
    "    'אימפלה': 'Impala',\n",
    "    'אופטרה': 'Optera',\n",
    "    'קורבט Z06': 'Corvette Z06',\n",
    "    'אוואו': 'Aww',\n",
    "    'קורסיקה': 'Corsica',\n",
    "    'קאמרו': 'Camaro',\n",
    "    'טראקס': 'Trax',\n",
    "    'אפיקה': 'Epica',\n",
    "    'קוואליר': 'Cavalier',\n",
    "    'אפלנדר': 'Uplander',\n",
    "    'קרוז החדשה': 'New Cruz',\n",
    "    'קאמארו': 'Camaro',\n",
    "    'סלבריטי': 'Celebrity',\n",
    "    'אלרו': 'Alero'\n",
    "}"
   ],
   "outputs": [],
   "execution_count": 56
  },
  {
   "cell_type": "code",
   "id": "91f217f63f2fd48b",
   "metadata": {
    "ExecuteTime": {
     "end_time": "2024-06-07T05:18:39.679709Z",
     "start_time": "2024-06-07T05:18:39.676129Z"
    }
   },
   "source": [
    "# Function to convert Hebrew model names to English\n",
    "def convert_model_name(model_name):\n",
    "    return hebrew_to_english.get(model_name, model_name)  # Return the English name if found, otherwise return the original name"
   ],
   "outputs": [],
   "execution_count": 57
  },
  {
   "cell_type": "code",
   "id": "713232107b657ccc",
   "metadata": {
    "ExecuteTime": {
     "end_time": "2024-06-07T05:18:39.933450Z",
     "start_time": "2024-06-07T05:18:39.928363Z"
    }
   },
   "source": [
    "# Apply the conversion function and create a new column\n",
    "df['english-model'] = df['model'].apply(convert_model_name)"
   ],
   "outputs": [],
   "execution_count": 58
  },
  {
   "cell_type": "code",
   "id": "f13a95c7-c146-4b9c-9fd0-7650053bd5e6",
   "metadata": {
    "ExecuteTime": {
     "end_time": "2024-06-07T05:18:42.077802Z",
     "start_time": "2024-06-07T05:18:40.163029Z"
    }
   },
   "source": [
    "# URL to the API\n",
    "api_url = 'https://data.gov.il/api/3/action/datastore_search?resource_id=5e87a7a1-2f6f-41c1-8aec-7216d52a6cf6'\n",
    "\n",
    "# Fetch data from the API\n",
    "response = requests.get(api_url)\n",
    "data = response.json()\n",
    "\n",
    "# Convert the data to a DataFrame\n",
    "api_df = pd.DataFrame(data['result']['records'])"
   ],
   "outputs": [],
   "execution_count": 59
  },
  {
   "cell_type": "code",
   "id": "5ff7dbaf3e9964b",
   "metadata": {
    "ExecuteTime": {
     "end_time": "2024-06-07T05:18:42.107606Z",
     "start_time": "2024-06-07T05:18:42.080340Z"
    }
   },
   "source": [
    "# Merge the DataFrame with the API data on the relevant columns\n",
    "merged_df = pd.merge(df, api_df, left_on=['manufactor', 'english-model', 'Year'],\n",
    "                     right_on=['tozar', 'kinuy_mishari', 'shnat_yitzur'], how='left')\n",
    "\n",
    "# Calculate the supply index by counting the number of matches\n",
    "supply_index = merged_df.groupby(['manufactor', 'english-model', 'Year']).size().reset_index(name='Supply_score')\n",
    "\n",
    "# Merge the supply index back into the original DataFrame\n",
    "df = pd.merge(df, supply_index, on=['manufactor', 'english-model', 'Year'], how='left')"
   ],
   "outputs": [],
   "execution_count": 60
  },
  {
   "cell_type": "code",
   "id": "557cb99255d8423",
   "metadata": {
    "ExecuteTime": {
     "end_time": "2024-06-07T05:18:42.114231Z",
     "start_time": "2024-06-07T05:18:42.108661Z"
    }
   },
   "source": [
    "# Drop the temporary 'english-model' column\n",
    "df.drop('english-model', axis=1, inplace=True)"
   ],
   "outputs": [],
   "execution_count": 61
  },
  {
   "cell_type": "code",
   "id": "6371bbf4948a0759",
   "metadata": {
    "ExecuteTime": {
     "end_time": "2024-06-07T05:18:42.125698Z",
     "start_time": "2024-06-07T05:18:42.115727Z"
    }
   },
   "source": "df.to_csv('מטלה חלק 1.csv', index=False, encoding='utf-8-sig')",
   "outputs": [],
   "execution_count": 62
  },
  {
   "cell_type": "code",
   "id": "e79bb5ab-4d4f-4dbd-9cf3-e6f6e5287815",
   "metadata": {
    "ExecuteTime": {
     "end_time": "2024-06-07T05:18:42.135566Z",
     "start_time": "2024-06-07T05:18:42.127093Z"
    }
   },
   "source": [
    "df.dtypes "
   ],
   "outputs": [
    {
     "data": {
      "text/plain": [
       "manufactor                 object\n",
       "Year                        int64\n",
       "model                      object\n",
       "Hand                        int64\n",
       "Gear                     category\n",
       "capacity_Engine             int64\n",
       "Engine_type              category\n",
       "Prev_ownership           category\n",
       "Curr_ownership           category\n",
       "Area               string[python]\n",
       "City               string[python]\n",
       "Price                     float64\n",
       "Pic_num                     int32\n",
       "Cre_date           datetime64[ns]\n",
       "Repub_date         datetime64[ns]\n",
       "Description        string[python]\n",
       "Color              string[python]\n",
       "Km                          Int64\n",
       "Test                        Int64\n",
       "Supply_score                int64\n",
       "dtype: object"
      ]
     },
     "execution_count": 63,
     "metadata": {},
     "output_type": "execute_result"
    }
   ],
   "execution_count": 63
  },
  {
   "metadata": {},
   "cell_type": "code",
   "outputs": [],
   "execution_count": null,
   "source": "df",
   "id": "874213b91dcdc344"
  }
 ],
 "metadata": {
  "kernelspec": {
   "display_name": "Python 3 (ipykernel)",
   "language": "python",
   "name": "python3"
  },
  "language_info": {
   "codemirror_mode": {
    "name": "ipython",
    "version": 3
   },
   "file_extension": ".py",
   "mimetype": "text/x-python",
   "name": "python",
   "nbconvert_exporter": "python",
   "pygments_lexer": "ipython3",
   "version": "3.10.2"
  }
 },
 "nbformat": 4,
 "nbformat_minor": 5
}
